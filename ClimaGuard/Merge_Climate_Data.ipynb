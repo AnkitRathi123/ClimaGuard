{
 "cells": [
  {
   "cell_type": "markdown",
   "metadata": {
    "application/vnd.databricks.v1+cell": {
     "cellMetadata": {},
     "inputWidgets": {},
     "nuid": "97b0f5cc-b590-4aa0-a377-7de4b372c9e3",
     "showTitle": false,
     "tableResultSettingsMap": {},
     "title": ""
    }
   },
   "source": [
    "## Preparing and Saving Combined Weather Features as Delta Table\n",
    "\n",
    "Loads multiple weather datasets, extracts the date, joins them on `deviceId` and `date`, and saves the enriched features to a Delta table for climate modeling.\n"
   ]
  },
  {
   "cell_type": "code",
   "execution_count": 0,
   "metadata": {
    "application/vnd.databricks.v1+cell": {
     "cellMetadata": {
      "byteLimit": 2048000,
      "rowLimit": 10000
     },
     "inputWidgets": {},
     "nuid": "a16d615f-f1aa-4770-916c-5d2a252ed4a6",
     "showTitle": false,
     "tableResultSettingsMap": {},
     "title": ""
    }
   },
   "outputs": [],
   "source": [
    "from pyspark.sql.functions import col, to_date\n",
    "\n",
    "# Load all weather datasets and extract date\n",
    "air_temp = spark.table(\"climaguard.singapore.air_temperature\") \\\n",
    "    .withColumn(\"date\", to_date(col(\"timestamp\"))) \\\n",
    "    .withColumnRenamed(\"value\", \"temperature\") \\\n",
    "    .select(\"deviceId\", \"name\", \"latitude\", \"longitude\", \"date\", \"temperature\")\n",
    "\n",
    "rain = spark.table(\"climaguard.singapore.rainfall\") \\\n",
    "    .withColumn(\"date\", to_date(col(\"timestamp\"))) \\\n",
    "    .withColumnRenamed(\"value\", \"rainfall\") \\\n",
    "    .select(\"deviceId\", \"date\", \"rainfall\")\n",
    "\n",
    "humidity = spark.table(\"climaguard.singapore.relative_humidity\") \\\n",
    "    .withColumn(\"date\", to_date(col(\"timestamp\"))) \\\n",
    "    .withColumnRenamed(\"value\", \"relative_humidity\") \\\n",
    "    .select(\"deviceId\", \"date\", \"relative_humidity\")\n",
    "\n",
    "wind_dir = spark.table(\"climaguard.singapore.wind_direction\") \\\n",
    "    .withColumn(\"date\", to_date(col(\"timestamp\"))) \\\n",
    "    .withColumnRenamed(\"value\", \"wind_direction\") \\\n",
    "    .select(\"deviceId\", \"date\", \"wind_direction\")\n",
    "\n",
    "wind_spd = spark.table(\"climaguard.singapore.wind_speed\") \\\n",
    "    .withColumn(\"date\", to_date(col(\"timestamp\"))) \\\n",
    "    .withColumnRenamed(\"value\", \"wind_speed\") \\\n",
    "    .select(\"deviceId\", \"date\", \"wind_speed\")\n",
    "\n",
    "# Join all tables on deviceId and date\n",
    "joined_df = air_temp \\\n",
    "    .join(rain, [\"deviceId\", \"date\"], \"inner\") \\\n",
    "    .join(humidity, [\"deviceId\", \"date\"], \"inner\") \\\n",
    "    .join(wind_dir, [\"deviceId\", \"date\"], \"inner\") \\\n",
    "    .join(wind_spd, [\"deviceId\", \"date\"], \"inner\") \\\n",
    "    .select(\"deviceId\", \"name\", \"latitude\", \"longitude\", \"date\", \n",
    "            \"temperature\", \"rainfall\", \"relative_humidity\", \"wind_direction\", \"wind_speed\") \\\n",
    "    .orderBy(\"date\", \"deviceId\")\n",
    "\n",
    "# Save the result to Delta\n",
    "joined_df.write \\\n",
    "    .format(\"delta\") \\\n",
    "    .mode(\"overwrite\") \\\n",
    "    .option(\"overwriteSchema\", \"true\") \\\n",
    "    .option(\"mergeSchema\", \"true\") \\\n",
    "    .saveAsTable(\"climaguard.singapore.climate_weather_features\")\n"
   ]
  }
 ],
 "metadata": {
  "application/vnd.databricks.v1+notebook": {
   "computePreferences": null,
   "dashboards": [],
   "environmentMetadata": {
    "base_environment": "",
    "environment_version": "2"
   },
   "inputWidgetPreferences": null,
   "language": "python",
   "notebookMetadata": {
    "pythonIndentUnit": 4
   },
   "notebookName": "Merge_Climate_Data",
   "widgets": {}
  },
  "language_info": {
   "name": "python"
  }
 },
 "nbformat": 4,
 "nbformat_minor": 0
}
