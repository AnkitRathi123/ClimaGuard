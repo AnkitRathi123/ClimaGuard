{
 "cells": [
  {
   "cell_type": "markdown",
   "metadata": {
    "application/vnd.databricks.v1+cell": {
     "cellMetadata": {},
     "inputWidgets": {},
     "nuid": "47d190a6-a0e6-46de-9d93-d2e01500929f",
     "showTitle": false,
     "tableResultSettingsMap": {},
     "title": ""
    }
   },
   "source": [
    "## HeatRiskModel with MLflow and LinearRegression\n",
    "\n",
    "A custom MLflow pyfunc model wrapping a scikit-learn `LinearRegression` to predict heat risk.\n"
   ]
  },
  {
   "cell_type": "code",
   "execution_count": 0,
   "metadata": {
    "application/vnd.databricks.v1+cell": {
     "cellMetadata": {
      "byteLimit": 2048000,
      "rowLimit": 10000
     },
     "inputWidgets": {},
     "nuid": "039af149-6131-4a2a-9569-cbf26713ce38",
     "showTitle": false,
     "tableResultSettingsMap": {},
     "title": ""
    }
   },
   "outputs": [],
   "source": [
    "from sklearn.linear_model import LinearRegression\n",
    "import mlflow\n",
    "import mlflow.pyfunc\n",
    "import pandas as pd\n",
    "from sklearn.model_selection import train_test_split\n",
    "from sklearn.metrics import mean_squared_error\n",
    "\n",
    "class HeatRiskModel(mlflow.pyfunc.PythonModel):\n",
    "    def __init__(self):\n",
    "        self.model = LinearRegression()  # \n",
    "\n",
    "    def load_context(self, context):\n",
    "        pass  # Nothing needed here anymore\n",
    "\n",
    "    def fit(self, X, y):\n",
    "        self.model.fit(X, y)\n",
    "\n",
    "    def predict(self, context, model_input):\n",
    "        return self.model.predict(model_input)\n"
   ]
  },
  {
   "cell_type": "markdown",
   "metadata": {
    "application/vnd.databricks.v1+cell": {
     "cellMetadata": {},
     "inputWidgets": {},
     "nuid": "7de71864-6013-4ee7-b24c-a3d98047abbd",
     "showTitle": false,
     "tableResultSettingsMap": {},
     "title": ""
    }
   },
   "source": [
    "## HeatRiskModel with Inline LinearRegression Initialization\n",
    "\n",
    "An MLflow pyfunc model that initializes and trains `LinearRegression` inside the `fit` method for heat risk prediction.\n"
   ]
  },
  {
   "cell_type": "code",
   "execution_count": 0,
   "metadata": {
    "application/vnd.databricks.v1+cell": {
     "cellMetadata": {
      "byteLimit": 2048000,
      "rowLimit": 10000
     },
     "inputWidgets": {},
     "nuid": "96942f99-bb5e-4961-b273-91b6ec8bb5cf",
     "showTitle": false,
     "tableResultSettingsMap": {},
     "title": ""
    }
   },
   "outputs": [],
   "source": [
    "class HeatRiskModel(mlflow.pyfunc.PythonModel):\n",
    "    def load_context(self, context):\n",
    "        pass\n",
    "\n",
    "    def fit(self, X, y):\n",
    "        self.model = LinearRegression()  # ✅ define model here\n",
    "        self.model.fit(X, y)\n",
    "\n",
    "    def predict(self, context, model_input):\n",
    "        return self.model.predict(model_input)\n"
   ]
  },
  {
   "cell_type": "markdown",
   "metadata": {
    "application/vnd.databricks.v1+cell": {
     "cellMetadata": {},
     "inputWidgets": {},
     "nuid": "c30e55fc-0572-4a08-95f4-02190111934d",
     "showTitle": false,
     "tableResultSettingsMap": {},
     "title": ""
    }
   },
   "source": [
    "## Training and Logging HeatRiskModel with MLflow on Weather Data\n",
    "\n",
    "Loads climate features from a Delta table, trains the `HeatRiskModel`, and logs it to MLflow along with mean squared error.\n"
   ]
  },
  {
   "cell_type": "code",
   "execution_count": 0,
   "metadata": {
    "application/vnd.databricks.v1+cell": {
     "cellMetadata": {
      "byteLimit": 2048000,
      "rowLimit": 10000
     },
     "inputWidgets": {},
     "nuid": "de706ff5-7338-492a-b2b0-0bf3f7b0ed4a",
     "showTitle": false,
     "tableResultSettingsMap": {},
     "title": ""
    }
   },
   "outputs": [],
   "source": [
    "import mlflow\n",
    "mlflow.set_registry_uri(\"databricks\")\n",
    "# Load the combined dataset\n",
    "df = spark.read.table(\"climaguard.singapore.climate_weather_features\").toPandas()\n",
    "\n",
    "# Feature engineering\n",
    "features = [\"rainfall\", \"relative_humidity\", \"wind_speed\", \"wind_direction\"]\n",
    "X = df[features]\n",
    "y = df[\"temperature\"]\n",
    "\n",
    "# Split for training\n",
    "X_train, X_test, y_train, y_test = train_test_split(X, y, test_size=0.2)\n",
    "\n",
    "# Train model\n",
    "model = HeatRiskModel()\n",
    "model.fit(X_train, y_train)\n",
    "\n",
    "# Start MLflow run\n",
    "with mlflow.start_run():\n",
    "    mlflow.pyfunc.log_model(artifact_path=\"heat_risk_model\", python_model=model)\n",
    "    preds = model.predict(None, X_test)\n",
    "    mse = mean_squared_error(y_test, preds)\n",
    "    mlflow.log_metric(\"mse\", mse)\n",
    "    print(\"MSE:\", mse)\n"
   ]
  },
  {
   "cell_type": "markdown",
   "metadata": {
    "application/vnd.databricks.v1+cell": {
     "cellMetadata": {},
     "inputWidgets": {},
     "nuid": "6af6eee7-b2a1-49ce-9382-110a267cbeb2",
     "showTitle": false,
     "tableResultSettingsMap": {},
     "title": ""
    }
   },
   "source": [
    "## Predicting Heat Risk and Saving Results to Delta Table\n",
    "\n",
    "Generates temperature predictions, classifies heat risk, and stores the results in a Delta table using Spark.\n"
   ]
  },
  {
   "cell_type": "code",
   "execution_count": 0,
   "metadata": {
    "application/vnd.databricks.v1+cell": {
     "cellMetadata": {
      "byteLimit": 2048000,
      "rowLimit": 10000
     },
     "inputWidgets": {},
     "nuid": "478b67df-8690-4413-9c22-e59bafbeafcd",
     "showTitle": false,
     "tableResultSettingsMap": {},
     "title": ""
    }
   },
   "outputs": [],
   "source": [
    "# Step 1: Predict temperature and classify risk\n",
    "df[\"predicted_temp\"] = model.predict(None, X)\n",
    "\n",
    "\n",
    "# Step 2: Convert Pandas DataFrame to Spark DataFrame\n",
    "spark_df = spark.createDataFrame(df)\n",
    "\n",
    "# Step 3: Save as Delta Table in desired location\n",
    "spark_df.write \\\n",
    "    .format(\"delta\") \\\n",
    "    .mode(\"overwrite\") \\\n",
    "    .option(\"overwriteSchema\", \"true\") \\\n",
    "    .saveAsTable(\"climaguard.singapore.climate_heat_risk\")\n"
   ]
  }
 ],
 "metadata": {
  "application/vnd.databricks.v1+notebook": {
   "computePreferences": null,
   "dashboards": [],
   "environmentMetadata": {
    "base_environment": "",
    "environment_version": "2"
   },
   "inputWidgetPreferences": null,
   "language": "python",
   "notebookMetadata": {
    "mostRecentlyExecutedCommandWithImplicitDF": {
     "commandId": 7788986496054371,
     "dataframes": [
      "_sqldf"
     ]
    },
    "pythonIndentUnit": 4
   },
   "notebookName": "Heat_Risk_Model",
   "widgets": {}
  },
  "language_info": {
   "name": "python"
  }
 },
 "nbformat": 4,
 "nbformat_minor": 0
}
